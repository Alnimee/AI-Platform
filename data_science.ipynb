{
 "cells": [
  {
   "cell_type": "code",
   "execution_count": 1,
   "metadata": {},
   "outputs": [],
   "source": [
    "import pandas as pd\n",
    "import math"
   ]
  },
  {
   "cell_type": "code",
   "execution_count": 68,
   "metadata": {},
   "outputs": [
    {
     "name": "stdout",
     "output_type": "stream",
     "text": [
      "#1 Data Load\n",
      "C:/Users/DS7/Desktop/Programming/AI Platform/data/sample_data3.csv\n"
     ]
    },
    {
     "data": {
      "text/html": [
       "<div>\n",
       "<style scoped>\n",
       "    .dataframe tbody tr th:only-of-type {\n",
       "        vertical-align: middle;\n",
       "    }\n",
       "\n",
       "    .dataframe tbody tr th {\n",
       "        vertical-align: top;\n",
       "    }\n",
       "\n",
       "    .dataframe thead th {\n",
       "        text-align: right;\n",
       "    }\n",
       "</style>\n",
       "<table border=\"1\" class=\"dataframe\">\n",
       "  <thead>\n",
       "    <tr style=\"text-align: right;\">\n",
       "      <th></th>\n",
       "      <th>fixed acidity</th>\n",
       "      <th>volatile acidity</th>\n",
       "      <th>citric acid</th>\n",
       "      <th>residual sugar</th>\n",
       "      <th>chlorides</th>\n",
       "      <th>free sulfur dioxide</th>\n",
       "      <th>total sulfur dioxide</th>\n",
       "      <th>density</th>\n",
       "      <th>pH</th>\n",
       "      <th>sulphates</th>\n",
       "      <th>alcohol</th>\n",
       "      <th>quality</th>\n",
       "      <th>label</th>\n",
       "    </tr>\n",
       "  </thead>\n",
       "  <tbody>\n",
       "    <tr>\n",
       "      <th>0</th>\n",
       "      <td>8.9</td>\n",
       "      <td>0.12</td>\n",
       "      <td>0.45</td>\n",
       "      <td>1.8</td>\n",
       "      <td>0.075</td>\n",
       "      <td>10.0</td>\n",
       "      <td>21.0</td>\n",
       "      <td>0.99552</td>\n",
       "      <td>3.41</td>\n",
       "      <td>0.76</td>\n",
       "      <td>11.9</td>\n",
       "      <td>7</td>\n",
       "      <td>0</td>\n",
       "    </tr>\n",
       "    <tr>\n",
       "      <th>1</th>\n",
       "      <td>5.6</td>\n",
       "      <td>0.19</td>\n",
       "      <td>0.46</td>\n",
       "      <td>1.1</td>\n",
       "      <td>0.032</td>\n",
       "      <td>33.0</td>\n",
       "      <td>115.0</td>\n",
       "      <td>0.99090</td>\n",
       "      <td>3.36</td>\n",
       "      <td>0.50</td>\n",
       "      <td>10.4</td>\n",
       "      <td>6</td>\n",
       "      <td>1</td>\n",
       "    </tr>\n",
       "    <tr>\n",
       "      <th>2</th>\n",
       "      <td>6.0</td>\n",
       "      <td>0.26</td>\n",
       "      <td>0.32</td>\n",
       "      <td>3.5</td>\n",
       "      <td>0.028</td>\n",
       "      <td>29.0</td>\n",
       "      <td>113.0</td>\n",
       "      <td>0.99120</td>\n",
       "      <td>3.40</td>\n",
       "      <td>0.71</td>\n",
       "      <td>12.3</td>\n",
       "      <td>7</td>\n",
       "      <td>1</td>\n",
       "    </tr>\n",
       "  </tbody>\n",
       "</table>\n",
       "</div>"
      ],
      "text/plain": [
       "   fixed acidity  volatile acidity  citric acid  residual sugar  chlorides  \\\n",
       "0            8.9              0.12         0.45             1.8      0.075   \n",
       "1            5.6              0.19         0.46             1.1      0.032   \n",
       "2            6.0              0.26         0.32             3.5      0.028   \n",
       "\n",
       "   free sulfur dioxide  total sulfur dioxide  density    pH  sulphates  \\\n",
       "0                 10.0                  21.0  0.99552  3.41       0.76   \n",
       "1                 33.0                 115.0  0.99090  3.36       0.50   \n",
       "2                 29.0                 113.0  0.99120  3.40       0.71   \n",
       "\n",
       "   alcohol  quality  label  \n",
       "0     11.9        7      0  \n",
       "1     10.4        6      1  \n",
       "2     12.3        7      1  "
      ]
     },
     "execution_count": 68,
     "metadata": {},
     "output_type": "execute_result"
    }
   ],
   "source": [
    "# 1, Data Load\n",
    "print('#1 Data Load')\n",
    "\n",
    "main_path = \"C:/Users/DS7/Desktop/Programming/AI Platform/data/\"\n",
    "file_name = input(\"Name of file : \")\n",
    "print(main_path + file_name)\n",
    "df = pd.read_csv(main_path + file_name)\n",
    "df.head(3)"
   ]
  },
  {
   "cell_type": "code",
   "execution_count": 71,
   "metadata": {},
   "outputs": [],
   "source": [
    "def exploration_data(df):\n",
    "    rows = len(df.index)\n",
    "    columns = df.columns\n",
    "\n",
    "    print(f'Total Rows : {rows}')\n",
    "    print(f'Total Columns : {len(columns)}')\n",
    "    for i in range(len(columns)):\n",
    "        col_name = columns[i]\n",
    "        print(f'Column Name : {col_name}, NA Count : {df[col_name].isna().sum()}')"
   ]
  },
  {
   "cell_type": "code",
   "execution_count": 70,
   "metadata": {},
   "outputs": [],
   "source": [
    "def preprocessing_numeric(df):\n",
    "    numeric_list = ['int64', 'int32', 'float64', 'float32']\n",
    "    numeric_count = 0\n",
    "\n",
    "    columns = df.columns\n",
    "\n",
    "    print(f'Col Name / Col Outlier Count, Range / Min, Max (Numeric)')\n",
    "    for i in range(len(columns)):\n",
    "        col_name = columns[i]\n",
    "        col_type = df[col_name].dtype\n",
    "        if col_type in numeric_list:\n",
    "            numeric_count += 1\n",
    "\n",
    "            # final_max = -1 * math.inf\n",
    "            # final_min = math.inf\n",
    "\n",
    "            Q3 = df[col_name].quantile(0.75)\n",
    "            Q1 = df[col_name].quantile(0.25)\n",
    "            IQR = Q3 - Q1\n",
    "            lower = Q1 - 1.5 * IQR\n",
    "            upper = Q3 + 1.5 * IQR\n",
    "            col_out = len(df[col_name][(df[col_name] < lower) | (df[col_name] > upper)])\n",
    "\n",
    "            col_max = df[col_name].max()\n",
    "            col_min = df[col_name].min()\n",
    "\n",
    "            print(f'{numeric_count + 1} : {col_name} / {col_out}, Range : ({-1.5 * IQR}, {1.5 * IQR}) / {col_min} / {col_max}')\n",
    "        else: continue\n",
    "    print(f'Numeric Col Count : {numeric_count}')\n",
    "\n",
    "def preprocessing_nominal(df, nominal_list):\n",
    "    print(f'Columns to OneHot : {nominal_list}')\n",
    "\n",
    "    df = pd.get_dummies(df, columns=nominal_list)\n",
    "    return df\n",
    "\n",
    "def preprocessing_ordinal(df, ordinal_list):\n",
    "    print(f'Columns to Ordinal : {ordinal_list}')\n",
    "    \n",
    "    for i in range(len(ordinal_list)):\n",
    "        unique_values = df[ordinal_list[i]].unique()\n",
    "        print(f'Column Name : {ordinal_list[i]}')\n",
    "        print(f'Unique Values of Column : {unique_values}')\n",
    "\n",
    "        convert_values = []\n",
    "        for j in range(len(unique_values)):\n",
    "            val = input(f'Input order of {unique_values[j]}')\n",
    "            convert_values.append(val)\n",
    "\n",
    "        df[ordinal_list[i]].replace(unique_values, convert_values, inplace=True)\n",
    "    return df\n",
    "\n",
    "def preprocessing_delete(df, delete_list):\n",
    "    print(f'Columns to delete : {delete_list}')\n",
    "    \n",
    "    df.drop(columns=delete_list, axis=1, inplace=True)\n",
    "    return df\n",
    "\n",
    "def preprocessing_NA(df, method):\n",
    "    if method == 'mean': df.fillna(df.mean(), inplace=True)\n",
    "    elif method == 'mode': df.fillna(df.mode(), inplace=True)\n",
    "    elif method == 'median': df.fillna(df.median(), inplace=True)\n",
    "    elif method == 'zero': df.fillna(0, inplace=True)\n",
    "    elif method == 'delete': df.dropna(axis=0, inplace=True)\n",
    "    else: print(\"Still in NA data\")\n",
    "    return df"
   ]
  },
  {
   "cell_type": "code",
   "execution_count": 96,
   "metadata": {},
   "outputs": [
    {
     "name": "stdout",
     "output_type": "stream",
     "text": [
      "#2 Data Exploration and Preprocessing\n"
     ]
    }
   ],
   "source": [
    "# 2, Data Exploration and Preprocessing\n",
    "print('#2 Data Exploration and Preprocessing')\n",
    "\n",
    "# Check the na data\n",
    "explore_data = False\n",
    "if explore_data: exploration_data(df)\n",
    "\n",
    "# Check the numeric data\n",
    "check_numeric = False\n",
    "if check_numeric: preprocessing_numeric(df)\n",
    "\n",
    "# Check the nominal data\n",
    "check_norminal = False\n",
    "if check_norminal: \n",
    "    temp_list = input(\"Input norminal cols : (ex. col1,col2)\")\n",
    "    norminal_list = temp_list.split(',')\n",
    "    df = preprocessing_nominal(df, norminal_list)\n",
    "\n",
    "# Check the ordinal data\n",
    "check_ordinal = False\n",
    "if check_ordinal:\n",
    "    temp_list = input(\"Input ordinal cols : (ex. col1,col2)\")\n",
    "    ordinal_list = temp_list.split(',')\n",
    "    df = preprocessing_ordinal(df, ordinal_list)\n",
    "\n",
    "# Delete Col List\n",
    "check_delete = False\n",
    "if check_delete:\n",
    "    temp_list = input(\"Input delete cols : (ex. col1,col2)\")\n",
    "    delete_list = temp_list.split(',')\n",
    "    df = preprocessing_delete(df, delete_list)\n",
    "\n",
    "# Check NA Rows\n",
    "check_NA = False\n",
    "if check_NA:\n",
    "    method = input(\"How to do NA : (ex. mean, mode, median, zero, delete)\")\n",
    "    df = preprocessing_NA(df, method)"
   ]
  },
  {
   "cell_type": "code",
   "execution_count": 73,
   "metadata": {},
   "outputs": [
    {
     "name": "stdout",
     "output_type": "stream",
     "text": [
      "#3 Data Split\n"
     ]
    }
   ],
   "source": [
    "# 3, Data Split\n",
    "print('#3 Data Split')\n",
    "from sklearn.model_selection import train_test_split\n",
    "# garagepl\n",
    "y_column = input(\"Input Target Column (Class) : \")\n",
    "reidx_columns = [col for col in df.columns if col != y_column]\n",
    "reidx_columns.append(y_column)\n",
    "\n",
    "test_ratio = 0.2\n",
    "# test_ratio = input(\"Input the test ratio : (ex. 0.2)\")\n",
    "df = df[reidx_columns]\n",
    "\n",
    "df_X = df.iloc[:, :-1]\n",
    "df_y = df.iloc[:, -1]\n",
    "\n",
    "df_X_train, df_X_test, df_y_train, df_y_test = train_test_split(df_X, df_y, test_size=test_ratio, stratify=df_y)"
   ]
  },
  {
   "cell_type": "code",
   "execution_count": 74,
   "metadata": {},
   "outputs": [
    {
     "name": "stdout",
     "output_type": "stream",
     "text": [
      "Numeric Data Columns : Index(['fixed acidity', 'volatile acidity', 'citric acid', 'residual sugar',\n",
      "       'chlorides', 'free sulfur dioxide', 'total sulfur dioxide', 'density',\n",
      "       'pH', 'sulphates', 'alcohol', 'quality', 'label'],\n",
      "      dtype='object')\n"
     ]
    }
   ],
   "source": [
    "# 4, Numeric Data Normalization\n",
    "print('#4, Numeric Data Normalization')\n",
    "from sklearn.preprocessing import StandardScaler, MinMaxScaler\n",
    "\n",
    "numeric_columns = df.select_dtypes(include='number').columns\n",
    "print(f'Numeric Data Columns : {numeric_columns}')\n",
    "\n",
    "ss_columns = ['chlorides']\n",
    "# input 값 받기\n",
    "mm_columns = ['quality']\n",
    "\n",
    "min_value = 0\n",
    "# input 값 받기\n",
    "max_value = 1\n",
    "\n",
    "ss_scaler = StandardScaler()\n",
    "mm_scaler = MinMaxScaler(feature_range=(min_value, max_value))\n",
    "\n",
    "df_X_train[ss_columns] = ss_scaler.fit_transform(df_X_train[ss_columns])\n",
    "df_X_train[mm_columns] = mm_scaler.fit_transform(df_X_train[mm_columns])\n",
    "\n",
    "df_X_test[ss_columns] = ss_scaler.transform(df_X_test[ss_columns])\n",
    "df_X_test[mm_columns] = mm_scaler.transform(df_X_test[mm_columns])"
   ]
  },
  {
   "cell_type": "code",
   "execution_count": null,
   "metadata": {},
   "outputs": [],
   "source": [
    "# Data Save\n",
    "preprocessed_df = df\n",
    "preprocessed_df.to_csv(main_path + \"preprocessed_\" + file_name, index=False)\n",
    "df.head(3)"
   ]
  },
  {
   "cell_type": "code",
   "execution_count": 76,
   "metadata": {},
   "outputs": [
    {
     "name": "stderr",
     "output_type": "stream",
     "text": [
      "c:\\Users\\DS7\\AppData\\Local\\Programs\\Python\\Python311\\Lib\\site-packages\\sklearn\\linear_model\\_logistic.py:458: ConvergenceWarning: lbfgs failed to converge (status=1):\n",
      "STOP: TOTAL NO. of ITERATIONS REACHED LIMIT.\n",
      "\n",
      "Increase the number of iterations (max_iter) or scale the data as shown in:\n",
      "    https://scikit-learn.org/stable/modules/preprocessing.html\n",
      "Please also refer to the documentation for alternative solver options:\n",
      "    https://scikit-learn.org/stable/modules/linear_model.html#logistic-regression\n",
      "  n_iter_i = _check_optimize_result(\n"
     ]
    },
    {
     "data": {
      "text/html": [
       "<style>#sk-container-id-1 {color: black;background-color: white;}#sk-container-id-1 pre{padding: 0;}#sk-container-id-1 div.sk-toggleable {background-color: white;}#sk-container-id-1 label.sk-toggleable__label {cursor: pointer;display: block;width: 100%;margin-bottom: 0;padding: 0.3em;box-sizing: border-box;text-align: center;}#sk-container-id-1 label.sk-toggleable__label-arrow:before {content: \"▸\";float: left;margin-right: 0.25em;color: #696969;}#sk-container-id-1 label.sk-toggleable__label-arrow:hover:before {color: black;}#sk-container-id-1 div.sk-estimator:hover label.sk-toggleable__label-arrow:before {color: black;}#sk-container-id-1 div.sk-toggleable__content {max-height: 0;max-width: 0;overflow: hidden;text-align: left;background-color: #f0f8ff;}#sk-container-id-1 div.sk-toggleable__content pre {margin: 0.2em;color: black;border-radius: 0.25em;background-color: #f0f8ff;}#sk-container-id-1 input.sk-toggleable__control:checked~div.sk-toggleable__content {max-height: 200px;max-width: 100%;overflow: auto;}#sk-container-id-1 input.sk-toggleable__control:checked~label.sk-toggleable__label-arrow:before {content: \"▾\";}#sk-container-id-1 div.sk-estimator input.sk-toggleable__control:checked~label.sk-toggleable__label {background-color: #d4ebff;}#sk-container-id-1 div.sk-label input.sk-toggleable__control:checked~label.sk-toggleable__label {background-color: #d4ebff;}#sk-container-id-1 input.sk-hidden--visually {border: 0;clip: rect(1px 1px 1px 1px);clip: rect(1px, 1px, 1px, 1px);height: 1px;margin: -1px;overflow: hidden;padding: 0;position: absolute;width: 1px;}#sk-container-id-1 div.sk-estimator {font-family: monospace;background-color: #f0f8ff;border: 1px dotted black;border-radius: 0.25em;box-sizing: border-box;margin-bottom: 0.5em;}#sk-container-id-1 div.sk-estimator:hover {background-color: #d4ebff;}#sk-container-id-1 div.sk-parallel-item::after {content: \"\";width: 100%;border-bottom: 1px solid gray;flex-grow: 1;}#sk-container-id-1 div.sk-label:hover label.sk-toggleable__label {background-color: #d4ebff;}#sk-container-id-1 div.sk-serial::before {content: \"\";position: absolute;border-left: 1px solid gray;box-sizing: border-box;top: 0;bottom: 0;left: 50%;z-index: 0;}#sk-container-id-1 div.sk-serial {display: flex;flex-direction: column;align-items: center;background-color: white;padding-right: 0.2em;padding-left: 0.2em;position: relative;}#sk-container-id-1 div.sk-item {position: relative;z-index: 1;}#sk-container-id-1 div.sk-parallel {display: flex;align-items: stretch;justify-content: center;background-color: white;position: relative;}#sk-container-id-1 div.sk-item::before, #sk-container-id-1 div.sk-parallel-item::before {content: \"\";position: absolute;border-left: 1px solid gray;box-sizing: border-box;top: 0;bottom: 0;left: 50%;z-index: -1;}#sk-container-id-1 div.sk-parallel-item {display: flex;flex-direction: column;z-index: 1;position: relative;background-color: white;}#sk-container-id-1 div.sk-parallel-item:first-child::after {align-self: flex-end;width: 50%;}#sk-container-id-1 div.sk-parallel-item:last-child::after {align-self: flex-start;width: 50%;}#sk-container-id-1 div.sk-parallel-item:only-child::after {width: 0;}#sk-container-id-1 div.sk-dashed-wrapped {border: 1px dashed gray;margin: 0 0.4em 0.5em 0.4em;box-sizing: border-box;padding-bottom: 0.4em;background-color: white;}#sk-container-id-1 div.sk-label label {font-family: monospace;font-weight: bold;display: inline-block;line-height: 1.2em;}#sk-container-id-1 div.sk-label-container {text-align: center;}#sk-container-id-1 div.sk-container {/* jupyter's `normalize.less` sets `[hidden] { display: none; }` but bootstrap.min.css set `[hidden] { display: none !important; }` so we also need the `!important` here to be able to override the default hidden behavior on the sphinx rendered scikit-learn.org. See: https://github.com/scikit-learn/scikit-learn/issues/21755 */display: inline-block !important;position: relative;}#sk-container-id-1 div.sk-text-repr-fallback {display: none;}</style><div id=\"sk-container-id-1\" class=\"sk-top-container\"><div class=\"sk-text-repr-fallback\"><pre>LogisticRegression()</pre><b>In a Jupyter environment, please rerun this cell to show the HTML representation or trust the notebook. <br />On GitHub, the HTML representation is unable to render, please try loading this page with nbviewer.org.</b></div><div class=\"sk-container\" hidden><div class=\"sk-item\"><div class=\"sk-estimator sk-toggleable\"><input class=\"sk-toggleable__control sk-hidden--visually\" id=\"sk-estimator-id-1\" type=\"checkbox\" checked><label for=\"sk-estimator-id-1\" class=\"sk-toggleable__label sk-toggleable__label-arrow\">LogisticRegression</label><div class=\"sk-toggleable__content\"><pre>LogisticRegression()</pre></div></div></div></div></div>"
      ],
      "text/plain": [
       "LogisticRegression()"
      ]
     },
     "execution_count": 76,
     "metadata": {},
     "output_type": "execute_result"
    }
   ],
   "source": [
    "# 5, Model Create and Learning\n",
    "print('#5, Model Create and Learning')\n",
    "from sklearn.linear_model import LogisticRegression\n",
    "\n",
    "model = LogisticRegression()\n",
    "model.fit(df_X_train, df_y_train)"
   ]
  },
  {
   "cell_type": "code",
   "execution_count": 131,
   "metadata": {},
   "outputs": [
    {
     "data": {
      "text/plain": [
       "array([-7.01774488e-01, -7.29013079e+00,  3.33309633e+00,  1.44476332e-01,\n",
       "       -1.02137277e+00, -3.89782286e-02,  6.28493510e-02,  1.59404636e+00,\n",
       "       -1.07256868e+00, -5.67730012e+00,  5.94627896e-01, -6.32556942e-03])"
      ]
     },
     "execution_count": 131,
     "metadata": {},
     "output_type": "execute_result"
    }
   ],
   "source": [
    "model.coef_[0]"
   ]
  },
  {
   "cell_type": "code",
   "execution_count": 132,
   "metadata": {},
   "outputs": [
    {
     "data": {
      "text/plain": [
       "array([1.752458])"
      ]
     },
     "execution_count": 132,
     "metadata": {},
     "output_type": "execute_result"
    }
   ],
   "source": [
    "model.intercept_"
   ]
  },
  {
   "cell_type": "code",
   "execution_count": 127,
   "metadata": {},
   "outputs": [],
   "source": [
    "import statsmodels.api as sm\n",
    "results = sm.OLS(df_y_train, sm.add_constant(df_X_train)).fit()"
   ]
  },
  {
   "cell_type": "code",
   "execution_count": 133,
   "metadata": {},
   "outputs": [
    {
     "data": {
      "text/plain": [
       "const                   133.226478\n",
       "fixed acidity             0.044459\n",
       "volatile acidity         -0.468584\n",
       "citric acid               0.148207\n",
       "residual sugar            0.052149\n",
       "chlorides                -0.025797\n",
       "free sulfur dioxide      -0.002869\n",
       "total sulfur dioxide      0.002986\n",
       "density                -133.150235\n",
       "pH                        0.158787\n",
       "sulphates                -0.125974\n",
       "alcohol                  -0.112203\n",
       "quality                  -0.094646\n",
       "dtype: float64"
      ]
     },
     "execution_count": 133,
     "metadata": {},
     "output_type": "execute_result"
    }
   ],
   "source": [
    "results.params"
   ]
  },
  {
   "cell_type": "code",
   "execution_count": 136,
   "metadata": {},
   "outputs": [
    {
     "ename": "TypeError",
     "evalue": "'Summary' object is not subscriptable",
     "output_type": "error",
     "traceback": [
      "\u001b[1;31m---------------------------------------------------------------------------\u001b[0m",
      "\u001b[1;31mTypeError\u001b[0m                                 Traceback (most recent call last)",
      "Cell \u001b[1;32mIn[136], line 1\u001b[0m\n\u001b[1;32m----> 1\u001b[0m results\u001b[39m.\u001b[39;49msummary()[\u001b[39m'\u001b[39;49m\u001b[39mcoef\u001b[39;49m\u001b[39m'\u001b[39;49m]\n",
      "\u001b[1;31mTypeError\u001b[0m: 'Summary' object is not subscriptable"
     ]
    }
   ],
   "source": [
    "results.summary()['coef']"
   ]
  },
  {
   "cell_type": "code",
   "execution_count": 129,
   "metadata": {},
   "outputs": [
    {
     "name": "stdout",
     "output_type": "stream",
     "text": [
      "#6, Model Information\n"
     ]
    }
   ],
   "source": [
    "# 6, Model Information\n",
    "print('#6, Model Information')\n",
    "\n",
    "pos_max = 0\n",
    "pos_min = math.inf\n",
    "neg_max = -1 * math.inf\n",
    "neg_min = 0\n",
    "\n",
    "columns = df.columns\n",
    "opt_list = [[-1, neg_min], [-1, neg_max], [-1, pos_min], [1, pos_max]]\n",
    "\n",
    "coef_list = model.coef_[0]\n",
    "for i in range(len(coef_list)):\n",
    "    coef = coef_list[i] # coef_list 내에서의 계수 값\n",
    "    if coef > 0: # 계수 값 양수일 때\n",
    "        if coef > pos_max:\n",
    "            pos_max_idx = i\n",
    "            pos_max = coef\n",
    "            opt_list[3][0] = columns[pos_max_idx]\n",
    "            opt_list[3][1] = pos_max\n",
    "        if coef < pos_min:\n",
    "            pos_min_idx = i\n",
    "            pos_min = coef\n",
    "            opt_list[2][0] = columns[pos_min_idx]\n",
    "            opt_list[2][1] = pos_min\n",
    "    elif coef < 0: # 계수 값 음수일 때\n",
    "        if coef > neg_max:\n",
    "            neg_max_idx = i\n",
    "            neg_max = coef\n",
    "            opt_list[1][0] = columns[neg_max_idx]\n",
    "            opt_list[1][1] = neg_max\n",
    "        if coef < neg_min:\n",
    "            neg_min_idx = i\n",
    "            neg_min = coef\n",
    "            opt_list[0][0] = columns[neg_min_idx]\n",
    "            opt_list[0][1] = neg_min\n",
    "    else: continue"
   ]
  },
  {
   "cell_type": "code",
   "execution_count": 130,
   "metadata": {},
   "outputs": [
    {
     "data": {
      "text/plain": [
       "[['volatile acidity', -7.290130790114555],\n",
       " ['quality', -0.006325569422913468],\n",
       " ['total sulfur dioxide', 0.06284935102969127],\n",
       " ['citric acid', 3.3330963256329613]]"
      ]
     },
     "execution_count": 130,
     "metadata": {},
     "output_type": "execute_result"
    }
   ],
   "source": [
    "opt_list"
   ]
  },
  {
   "cell_type": "code",
   "execution_count": null,
   "metadata": {},
   "outputs": [],
   "source": [
    "# 7, Model Evaluation\n",
    "print('#7, Model Evaluation')\n",
    "\n",
    "y_pred = model.predict(df_X_test)\n",
    "y_test = df_y_test.to_numpy()\n",
    "\n",
    "from sklearn.model_selection import cross_val_score, LeaveOneGroupOut"
   ]
  },
  {
   "cell_type": "code",
   "execution_count": null,
   "metadata": {},
   "outputs": [],
   "source": [
    "# * Features Selection\n",
    "# * Hyper Parameters\n",
    "\n",
    "# 2. Preprocessing Numeric List 미사용 후 dtypes로 확인\n",
    "\n",
    "# Data Split 진행시 Random State Param 확인\n",
    "# sklearn, statsmodels 결과 확인 (coef, params)\n",
    "# * Find p-values of Trained Model"
   ]
  }
 ],
 "metadata": {
  "kernelspec": {
   "display_name": "Python 3",
   "language": "python",
   "name": "python3"
  },
  "language_info": {
   "codemirror_mode": {
    "name": "ipython",
    "version": 3
   },
   "file_extension": ".py",
   "mimetype": "text/x-python",
   "name": "python",
   "nbconvert_exporter": "python",
   "pygments_lexer": "ipython3",
   "version": "3.11.1"
  },
  "orig_nbformat": 4
 },
 "nbformat": 4,
 "nbformat_minor": 2
}
